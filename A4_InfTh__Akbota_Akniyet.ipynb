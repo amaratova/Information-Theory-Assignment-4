{
  "nbformat": 4,
  "nbformat_minor": 0,
  "metadata": {
    "colab": {
      "name": "a4 inf teor.ipynb",
      "provenance": [],
      "collapsed_sections": [],
      "toc_visible": true
    },
    "kernelspec": {
      "name": "python3",
      "display_name": "Python 3"
    },
    "language_info": {
      "name": "python"
    }
  },
  "cells": [
    {
      "cell_type": "markdown",
      "metadata": {
        "id": "dXVoPWJ0jTnO"
      },
      "source": [
        "## Assignment 4: Huffman Algorithm Decoding\n",
        "### Members: Akbota Yelemessova & Akniyet Maratova \n",
        "### Group: BDA-1904\n"
      ]
    },
    {
      "cell_type": "code",
      "metadata": {
        "colab": {
          "base_uri": "https://localhost:8080/"
        },
        "id": "oadutVa8QUl7",
        "outputId": "e582ebd9-93bc-427c-8e73-d79724183b67"
      },
      "source": [
        "# open and read txt file\n",
        "with open('text.txt', encoding=\"utf8\") as file:\n",
        "    text = file.read()\n",
        "    print('To be encoded text:')\n",
        "print(text)"
      ],
      "execution_count": null,
      "outputs": [
        {
          "output_type": "stream",
          "text": [
            "To be encoded text:\n",
            "BDA DATA \n",
            "Big git\n",
            "\n"
          ],
          "name": "stdout"
        }
      ]
    },
    {
      "cell_type": "code",
      "metadata": {
        "colab": {
          "base_uri": "https://localhost:8080/"
        },
        "id": "5JHByq7ScCsp",
        "outputId": "e526b161-6162-4cf2-f758-cbe3b63f47de"
      },
      "source": [
        "# Part 1 \n",
        "print('Part 1')\n",
        "n = len(text)\n",
        "# create list to store the frequency of each symbol\n",
        "freqs = {}\n",
        "\n",
        "# cycle to count frequencies\n",
        "for i in text:\n",
        "    #every time when we need the symbol it increments\n",
        "    if i in freqs:\n",
        "        freqs[i] += 1\n",
        "    # if no more such symbol meets frequency remains 1\n",
        "    else:\n",
        "        freqs[i] = 1\n",
        "\n",
        "# result shows the symbol and its probability \n",
        "print(\"Symbol   Probability  \")\n",
        "for i in freqs:\n",
        "  # creating notations for space, tab, new line\n",
        "  if i == ' ':\n",
        "    print(f' space - {round((freqs[i] / n),3)}  ')\n",
        "  elif i == '\\t':\n",
        "    print(f' tab -   {round((freqs[i] / n),3)}  ')\n",
        "  elif i == '\\n':\n",
        "    print(f' new line - {round((freqs[i] / n),3)}  ')\n",
        "  else:\n",
        "    print(f' {i}  -    {round((freqs[i] / n),3)}  ')\n",
        "\n",
        "# creating new list to store probabilities\n",
        "probs = {}\n",
        "for i in freqs:\n",
        "    probs[i] = round((freqs[i] / n),3)\n"
      ],
      "execution_count": null,
      "outputs": [
        {
          "output_type": "stream",
          "text": [
            "Part 1\n",
            "Symbol   Probability  \n",
            " B  -    0.111  \n",
            " D  -    0.111  \n",
            " A  -    0.167  \n",
            " space - 0.167  \n",
            " T  -    0.056  \n",
            " new line - 0.111  \n",
            " i  -    0.111  \n",
            " g  -    0.111  \n",
            " t  -    0.056  \n"
          ],
          "name": "stdout"
        }
      ]
    },
    {
      "cell_type": "code",
      "metadata": {
        "id": "2MAwK-gkkYSI"
      },
      "source": [
        "# Creating class for tree node \n",
        "class Tree_Node(object):\n",
        "\n",
        "    def __init__(self, left=None, right=None):\n",
        "        self.left = left\n",
        "        self.right = right\n",
        "\n",
        "    def children(self):\n",
        "        return (self.left, self.right)\n",
        "\n",
        "    def nodes(self):\n",
        "        return (self.left, self.right)\n",
        "\n",
        "    def __str__(self):\n",
        "        return '%s_%s' % (self.left, self.right)\n",
        "\n",
        "\n",
        "# function of huffman codeng algorithm\n",
        "def Huffman_encode(node, left=True, binString=''):\n",
        "    if type(node) is str:\n",
        "        return {node: binString}\n",
        "    (l, r) = node.children()\n",
        "    c = dict()\n",
        "    c.update(Huffman_encode(l, True, binString + '0'))\n",
        "    c.update(Huffman_encode(r, False, binString + '1'))\n",
        "    return c\n",
        "\n"
      ],
      "execution_count": null,
      "outputs": []
    },
    {
      "cell_type": "code",
      "metadata": {
        "colab": {
          "base_uri": "https://localhost:8080/"
        },
        "id": "b-rGEYzpcDBR",
        "outputId": "b96c2640-8ba2-4e2a-cd16-8fcb392ee382"
      },
      "source": [
        "# Part 2\n",
        "print('Part 2')\n",
        "\n",
        "#sorting probabilities in descending order\n",
        "prob = sorted(probs.items(), key=lambda x: x[1], reverse=True)\n",
        "nodes = prob\n",
        "print(' ')\n",
        "\n",
        "# creating variables to count nodes and steps\n",
        "i = 1\n",
        "step = 1 \n",
        "\n",
        "# loop for creating nodes\n",
        "while len(nodes) > 1:\n",
        "    # (symbol, probability)\n",
        "    (s1, p1) = nodes[-1]\n",
        "    (s2, p2) = nodes[-2]\n",
        "    nodes = nodes[:-2]\n",
        "    node = Tree_Node(s1, s2)\n",
        "    print(f'Step {step}')\n",
        "    print(f'{Huffman_encode(node)} ')\n",
        "\n",
        "    print(f' Node {i}:  {s1} - sum({p1}) ')\n",
        "    i=i+1\n",
        "    print(f' Node {i}:  {s2} - sum({p2}) ')\n",
        "    i=i+1\n",
        "    nodes.append((node, p1 + p2))\n",
        "\n",
        "    # sorting nodes in desending order\n",
        "    nodes = sorted(nodes, key=lambda x: x[1], reverse=True)\n",
        "    step = step+1\n",
        "    print(' ')"
      ],
      "execution_count": null,
      "outputs": [
        {
          "output_type": "stream",
          "text": [
            "Part 2\n",
            " \n",
            "Step 1\n",
            "{'t': '0', 'T': '1'} \n",
            " Node 1:  t - sum(0.056) \n",
            " Node 2:  T - sum(0.056) \n",
            " \n",
            "Step 2\n",
            "{'g': '0', 'i': '1'} \n",
            " Node 3:  g - sum(0.111) \n",
            " Node 4:  i - sum(0.111) \n",
            " \n",
            "Step 3\n",
            "{'\\n': '0', 'D': '1'} \n",
            " Node 5:  \n",
            " - sum(0.111) \n",
            " Node 6:  D - sum(0.111) \n",
            " \n",
            "Step 4\n",
            "{'B': '0', 't': '10', 'T': '11'} \n",
            " Node 7:  B - sum(0.111) \n",
            " Node 8:  t_T - sum(0.112) \n",
            " \n",
            "Step 5\n",
            "{' ': '0', 'A': '1'} \n",
            " Node 9:    - sum(0.167) \n",
            " Node 10:  A - sum(0.167) \n",
            " \n",
            "Step 6\n",
            "{'\\n': '00', 'D': '01', 'g': '10', 'i': '11'} \n",
            " Node 11:  \n",
            "_D - sum(0.222) \n",
            " Node 12:  g_i - sum(0.222) \n",
            " \n",
            "Step 7\n",
            "{'B': '00', 't': '010', 'T': '011', ' ': '10', 'A': '11'} \n",
            " Node 13:  B_t_T - sum(0.223) \n",
            " Node 14:   _A - sum(0.334) \n",
            " \n",
            "Step 8\n",
            "{'\\n': '000', 'D': '001', 'g': '010', 'i': '011', 'B': '100', 't': '1010', 'T': '1011', ' ': '110', 'A': '111'} \n",
            " Node 15:  \n",
            "_D_g_i - sum(0.444) \n",
            " Node 16:  B_t_T_ _A - sum(0.557) \n",
            " \n"
          ],
          "name": "stdout"
        }
      ]
    },
    {
      "cell_type": "code",
      "metadata": {
        "colab": {
          "base_uri": "https://localhost:8080/"
        },
        "id": "gxLdjA4acDMU",
        "outputId": "9fd45d29-3742-49d6-ecd7-e3939b902ce0"
      },
      "source": [
        "# Part 3\n",
        "print('Part 3')\n",
        "\n",
        "huffman = Huffman_encode(nodes[0][0])\n",
        "print(' ' )\n",
        "\n",
        "print('symbol – probability - codeword: ')\n",
        "for (i, frequency) in prob:\n",
        "  if i == ' ':\n",
        "    print(f'space -    {probs[i]}     - {huffman[i]}  ')\n",
        "  elif i == '\\t':\n",
        "    print(f'tab   -    {probs[i]}    - {huffman[i]}  ')\n",
        "  elif i == '\\n':\n",
        "    print(f'new line - {probs[i]}     - {huffman[i]} ')\n",
        "  else:\n",
        "    print(f' {i}   -     {probs[i]}     - {huffman[i]}')"
      ],
      "execution_count": null,
      "outputs": [
        {
          "output_type": "stream",
          "text": [
            "Part 3\n",
            " \n",
            "symbol – probability - codeword: \n",
            " A   -     0.167     - 111\n",
            "space -    0.167     - 110  \n",
            " B   -     0.111     - 100\n",
            " D   -     0.111     - 001\n",
            "new line - 0.111     - 000 \n",
            " i   -     0.111     - 011\n",
            " g   -     0.111     - 010\n",
            " T   -     0.056     - 1011\n",
            " t   -     0.056     - 1010\n"
          ],
          "name": "stdout"
        }
      ]
    },
    {
      "cell_type": "code",
      "metadata": {
        "colab": {
          "base_uri": "https://localhost:8080/"
        },
        "id": "nRdo8-3zceHY",
        "outputId": "1903a63b-f76a-4aeb-d2fb-76d659a690af"
      },
      "source": [
        "# Part 4\n",
        "# reopen and read txt file\n",
        "with open('text.txt', encoding=\"utf8\") as file:\n",
        "    text1 = file.read()\n",
        "    print('To be encoded text:')\n",
        "print(text1)\n",
        "\n",
        "codes = {}\n",
        "for (i, frequency) in prob:\n",
        "  codes[i] = huffman[i]\n",
        "\n",
        "# create new file to write codewords\n",
        "f = open(\"compressed.txt\",\"w+\")\n",
        "\n",
        "# loop that compares each symbol in the textwith the symbols in codes list\n",
        "for i in text1:\n",
        "  for j in codes:\n",
        "    if i == j:\n",
        "      # write to the file\n",
        "      f.write(codes[j])\n",
        "\n",
        "# open compressed file \n",
        "with open('compressed.txt', encoding=\"utf8\") as file:\n",
        "    text2 = file.read()\n",
        "    print('Compressed text:')\n",
        "print(text2)\n",
        "print(len(text2)) "
      ],
      "execution_count": null,
      "outputs": [
        {
          "output_type": "stream",
          "text": [
            "To be encoded text:\n",
            "BDA DATA \n",
            "Big git\n",
            "\n",
            "Compressed text:\n",
            "10000111111000111110111111100001000110101100100111010000\n",
            "56\n"
          ],
          "name": "stdout"
        }
      ]
    },
    {
      "cell_type": "markdown",
      "metadata": {
        "id": "rLNs30ye0pRd"
      },
      "source": [
        "## Decoding"
      ]
    },
    {
      "cell_type": "code",
      "metadata": {
        "colab": {
          "base_uri": "https://localhost:8080/"
        },
        "id": "yms5paVcTXeM",
        "outputId": "2c093b7a-3e04-483c-c090-9718e8a3459d"
      },
      "source": [
        "# Decoding \n",
        "print('Part 1:')\n",
        "print('To be decoded text:')\n",
        "print(text2)\n",
        "print('')"
      ],
      "execution_count": 42,
      "outputs": [
        {
          "output_type": "stream",
          "text": [
            "Step 1:\n",
            "To be decoded text:\n",
            "001110111011101100101110100000101110101100011101\n",
            "\n"
          ],
          "name": "stdout"
        }
      ]
    },
    {
      "cell_type": "code",
      "metadata": {
        "id": "0acSvibxJ8E_",
        "colab": {
          "base_uri": "https://localhost:8080/"
        },
        "outputId": "afc4039d-8874-4440-f2e8-c9d4c6ad1e11"
      },
      "source": [
        "print('Part 2:')\n",
        "# creating new txt file to write decompressed text \n",
        "k = open(\"decompressed.txt\",\"w+\")\n",
        "# creating variables to store codes and decoded strings \n",
        "code = ''\n",
        "decoded_str = ''\n",
        "\n",
        "#searching matched sequence/combination of digits with the values in codes\n",
        "#  variable to count steps\n",
        "i = 2\n",
        "print('Step 1')\n",
        "for number in text2:\n",
        "  code = code + number\n",
        "  print(code)\n",
        "  # compares codewords with code\n",
        "  for char in codes:\n",
        "    if code == codes[char]:\n",
        "      # stores symbols as a string\n",
        "      decoded_str = decoded_str + char\n",
        "      # output code with symbol/notation\n",
        "      if char == ' ':\n",
        "        print ('space' )\n",
        "      elif char == '\\n':\n",
        "        print (' new line' )\n",
        "      else:\n",
        "        print(char)\n",
        "      # code becomes empty to store another sequence of digits\n",
        "      code = ''\n",
        "      print('')\n",
        "      print(f'Step {i}')\n",
        "      i+=1\n",
        "# writing the decoded characters into txt file\n",
        "for i in decoded_str:\n",
        "  k.write(i)     \n",
        "\n",
        "     \n",
        "\n",
        "  "
      ],
      "execution_count": 66,
      "outputs": [
        {
          "output_type": "stream",
          "text": [
            "Part 2:\n",
            "Step 1\n",
            "0\n",
            "00\n",
            "B\n",
            "\n",
            "Step 2\n",
            "1\n",
            "11\n",
            "111\n",
            "D\n",
            "\n",
            "Step 3\n",
            "0\n",
            "01\n",
            "A\n",
            "\n",
            "Step 4\n",
            "1\n",
            "11\n",
            "110\n",
            "space\n",
            "\n",
            "Step 5\n",
            "1\n",
            "11\n",
            "111\n",
            "D\n",
            "\n",
            "Step 6\n",
            "0\n",
            "01\n",
            "A\n",
            "\n",
            "Step 7\n",
            "1\n",
            "10\n",
            "100\n",
            "1001\n",
            "T\n",
            "\n",
            "Step 8\n",
            "0\n",
            "01\n",
            "A\n",
            "\n",
            "Step 9\n",
            "1\n",
            "11\n",
            "110\n",
            "space\n",
            "\n",
            "Step 10\n",
            "1\n",
            "10\n",
            "100\n",
            "1000\n",
            " new line\n",
            "\n",
            "Step 11\n",
            "0\n",
            "00\n",
            "B\n",
            "\n",
            "Step 12\n",
            "1\n",
            "10\n",
            "101\n",
            "1011\n",
            "i\n",
            "\n",
            "Step 13\n",
            "1\n",
            "10\n",
            "101\n",
            "1010\n",
            "g\n",
            "\n",
            "Step 14\n",
            "1\n",
            "11\n",
            "110\n",
            "space\n",
            "\n",
            "Step 15\n",
            "0\n",
            "00\n",
            "B\n",
            "\n",
            "Step 16\n",
            "1\n",
            "11\n",
            "111\n",
            "D\n",
            "\n",
            "Step 17\n",
            "0\n",
            "01\n",
            "A\n",
            "\n",
            "Step 18\n"
          ],
          "name": "stdout"
        }
      ]
    },
    {
      "cell_type": "code",
      "metadata": {
        "id": "b_MUfscxV1lH",
        "colab": {
          "base_uri": "https://localhost:8080/"
        },
        "outputId": "221edd41-0bab-45bb-96e7-5961f3175a10"
      },
      "source": [
        "print('Part3')\n",
        "# open decompressed file \n",
        "with open('decompressed.txt', encoding=\"utf8\") as file:\n",
        "   text3 = file.read()\n",
        "   print('Decompressed text:')\n",
        "   print(text3) \n",
        "   print('')     \n",
        "   print('Original text:')\n",
        "   print(text)\n",
        "   print('')\n",
        "\n",
        "   print('Checker')\n",
        "   # checks for matching the texts\n",
        "   if text3 == text:\n",
        "    print('Original text and decompressed text match')\n",
        "   else:\n",
        "     print('Do not match') "
      ],
      "execution_count": 44,
      "outputs": [
        {
          "output_type": "stream",
          "text": [
            "Part3\n",
            "Decompressed text:\n",
            "BDA DATA \n",
            "Big BDA\n",
            "\n",
            "Original text:\n",
            "BDA DATA \n",
            "Big BDA\n",
            "\n",
            "Checker\n",
            "Original text and decompressed text match\n"
          ],
          "name": "stdout"
        }
      ]
    },
    {
      "cell_type": "code",
      "metadata": {
        "id": "bi3MWHov6Ffg"
      },
      "source": [
        "#draft\n",
        "def decode(tree, s):\n",
        "  tmp = tree\n",
        "  dec_str = []\n",
        "\n",
        "  for char in s:\n",
        "    # to left\n",
        "    if char == '0':\n",
        "      tmp = tmp.left\n",
        "    # to right\n",
        "    else:\n",
        "      tmp = tmp.right\n",
        "    \n",
        "    # check for leaf node\n",
        "    if tmp.left == None & tmp.right == None:\n",
        "      dec_str.append(tmp.val)\n",
        "      tmp = tree\n",
        "\n",
        "print('Decoded')\n",
        "decoded = decode(nodes[0][0], text2)\n",
        "print(decoded)\n"
      ],
      "execution_count": null,
      "outputs": []
    }
  ]
}